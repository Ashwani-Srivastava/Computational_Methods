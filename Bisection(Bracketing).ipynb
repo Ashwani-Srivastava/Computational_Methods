{
 "cells": [
  {
   "cell_type": "code",
   "execution_count": 19,
   "metadata": {},
   "outputs": [],
   "source": [
    "import numpy as np\n",
    "import matplotlib.pyplot as plt\n",
    "import math\n"
   ]
  },
  {
   "cell_type": "code",
   "execution_count": 20,
   "metadata": {},
   "outputs": [],
   "source": [
    "import sympy as sy"
   ]
  },
  {
   "cell_type": "code",
   "execution_count": 21,
   "metadata": {},
   "outputs": [],
   "source": [
    "def f(x):\n",
    "    p=x*x-5\n",
    "    return p"
   ]
  },
  {
   "cell_type": "code",
   "execution_count": 22,
   "metadata": {},
   "outputs": [],
   "source": [
    "a=3\n",
    "b=2\n"
   ]
  },
  {
   "cell_type": "code",
   "execution_count": 24,
   "metadata": {},
   "outputs": [
    {
     "name": "stdout",
     "output_type": "stream",
     "text": [
      "f(a)=1.25\n",
      "f(b)=-1\n",
      "m=2.25\n",
      "f(m)=0.0625\n",
      "a=2.25\n",
      "b=2\n"
     ]
    }
   ],
   "source": [
    "f1=f(a)\n",
    "f2=f(b)\n",
    "p=f1*f2\n",
    "print(\"f(a)=\"+str(f1))\n",
    "print(\"f(b)=\"+str(f2))\n",
    "if(p>0):\n",
    "    print(\"NO\")\n",
    "elif p==0:\n",
    "    print(\"answer=a or b\")\n",
    "else:\n",
    "    m=(a+b)/2\n",
    "    print(\"m=\"+str(m))\n",
    "    func=f(m)\n",
    "    print('f(m)='+str(func))\n",
    "    if func==0:\n",
    "        print(\"answer=\"+str(m))\n",
    "    elif func*f(a)<0:\n",
    "        b=m\n",
    "    else:\n",
    "        a=m\n",
    "    print(\"a=\"+str(a))\n",
    "    print('b='+str(b))"
   ]
  },
  {
   "cell_type": "code",
   "execution_count": null,
   "metadata": {},
   "outputs": [],
   "source": []
  },
  {
   "cell_type": "code",
   "execution_count": null,
   "metadata": {},
   "outputs": [],
   "source": []
  }
 ],
 "metadata": {
  "kernelspec": {
   "display_name": "Python 3",
   "language": "python",
   "name": "python3"
  },
  "language_info": {
   "codemirror_mode": {
    "name": "ipython",
    "version": 3
   },
   "file_extension": ".py",
   "mimetype": "text/x-python",
   "name": "python",
   "nbconvert_exporter": "python",
   "pygments_lexer": "ipython3",
   "version": "3.7.6"
  }
 },
 "nbformat": 4,
 "nbformat_minor": 4
}
