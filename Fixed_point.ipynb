{
 "cells": [
  {
   "cell_type": "code",
   "execution_count": 40,
   "metadata": {},
   "outputs": [],
   "source": [
    "import math\n",
    "import numpy as np\n",
    "import matplotlib.pyplot as plt\n",
    "import sympy as sy\n",
    "from sympy import *"
   ]
  },
  {
   "cell_type": "code",
   "execution_count": 41,
   "metadata": {},
   "outputs": [
    {
     "name": "stdout",
     "output_type": "stream",
     "text": [
      "Eqn: x=g(x)\n"
     ]
    }
   ],
   "source": [
    "x,y,z=symbols('x y z')\n",
    "init_printing(use_unicode=True)\n",
    "print(\"Eqn: x=g(x)\")\n",
    "def g(x):\n",
    "    p=(x+5)/(x+1)\n",
    "    return p"
   ]
  },
  {
   "cell_type": "code",
   "execution_count": 42,
   "metadata": {},
   "outputs": [
    {
     "name": "stdout",
     "output_type": "stream",
     "text": [
      "1/(x + 1) - (x + 5)/(x + 1)**2\n"
     ]
    }
   ],
   "source": [
    "express=(x+5)/(x+1)\n",
    "print(sy.diff(express,x))\n",
    "def gprime(x):\n",
    "    p=sy.diff(express,x)\n",
    "    return p"
   ]
  },
  {
   "cell_type": "code",
   "execution_count": 43,
   "metadata": {},
   "outputs": [
    {
     "data": {
      "image/png": "[encoded data removed]",
      "text/latex": [
       "$\\displaystyle - \\frac{4}{49}$"
      ],
      "text/plain": [
       "-4/49"
      ]
     },
     "execution_count": 43,
     "metadata": {},
     "output_type": "execute_result"
    }
   ],
   "source": [
    "deriv=gprime(x)\n",
    "deriv.subs(x,6)"
   ]
  },
  {
   "cell_type": "code",
   "execution_count": 44,
   "metadata": {},
   "outputs": [
    {
     "name": "stdout",
     "output_type": "stream",
     "text": [
      "4/49\n",
      "g(a)=6\n",
      "g(a)=1.5714285714285714\n",
      "g(a)=2.555555555555556\n",
      "g(a)=2.125\n",
      "g(a)=2.28\n",
      "g(a)=2.219512195121951\n",
      "g(a)=2.242424242424242\n",
      "g(a)=2.2336448598130842\n",
      "g(a)=2.2369942196531793\n",
      "g(a)=2.2357142857142858\n"
     ]
    }
   ],
   "source": [
    "a=6\n",
    "p=deriv.subs(x,a)\n",
    "n=10\n",
    "print(abs(p))\n",
    "if abs(p)<1:\n",
    "    while n>0:\n",
    "        n=n-1\n",
    "        f=g(a)\n",
    "        print('g(a)='+str(a))\n",
    "        if abs((f-a)/f)<pow(10,-8):\n",
    "            print('ans='+str(a)+'breaked')\n",
    "            break\n",
    "        else:\n",
    "            a=f\n",
    "        \n",
    "else:\n",
    "    print(\"Not Converging\")"
   ]
  },
  {
   "cell_type": "code",
   "execution_count": null,
   "metadata": {},
   "outputs": [],
   "source": []
  }
 ],
 "metadata": {
  "kernelspec": {
   "display_name": "Python 3",
   "language": "python",
   "name": "python3"
  },
  "language_info": {
   "codemirror_mode": {
    "name": "ipython",
    "version": 3
   },
   "file_extension": ".py",
   "mimetype": "text/x-python",
   "name": "python",
   "nbconvert_exporter": "python",
   "pygments_lexer": "ipython3",
   "version": "3.7.6"
  }
 },
 "nbformat": 4,
 "nbformat_minor": 4
}
