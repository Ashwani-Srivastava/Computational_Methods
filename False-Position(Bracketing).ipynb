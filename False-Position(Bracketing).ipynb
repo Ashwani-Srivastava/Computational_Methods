{
 "cells": [
  {
   "cell_type": "code",
   "execution_count": 18,
   "metadata": {},
   "outputs": [],
   "source": [
    "import math\n",
    "import numpy as np\n",
    "import matplotlib.pyplot as plt"
   ]
  },
  {
   "cell_type": "code",
   "execution_count": 19,
   "metadata": {},
   "outputs": [],
   "source": [
    "import sympy as sy"
   ]
  },
  {
   "cell_type": "code",
   "execution_count": 20,
   "metadata": {},
   "outputs": [],
   "source": [
    "a=3.0\n",
    "b=2.0"
   ]
  },
  {
   "cell_type": "code",
   "execution_count": 21,
   "metadata": {},
   "outputs": [],
   "source": [
    "def f(x):\n",
    "    p=x*x-5\n",
    "    return p\n"
   ]
  },
  {
   "cell_type": "code",
   "execution_count": 22,
   "metadata": {},
   "outputs": [
    {
     "name": "stdout",
     "output_type": "stream",
     "text": [
      "f(a)=4.0\n",
      "f(b)=-1.0\n",
      "f(m)=-0.15999999999999925\n",
      "a=3.0\n",
      "b=2.2\n",
      "f(a)=4.0\n",
      "f(b)=-0.15999999999999925\n",
      "f(m)=-0.02366863905325456\n",
      "a=3.0\n",
      "b=2.230769230769231\n",
      "f(a)=4.0\n",
      "f(b)=-0.02366863905325456\n",
      "f(m)=-0.0034602076124565784\n",
      "a=3.0\n",
      "b=2.235294117647059\n",
      "f(a)=4.0\n",
      "f(b)=-0.0034602076124565784\n",
      "f(m)=-0.000504986744098268\n",
      "a=3.0\n",
      "b=2.235955056179775\n",
      "f(a)=4.0\n",
      "f(b)=-0.000504986744098268\n",
      "f(m)=-7.36797509617304e-05\n",
      "a=3.0\n",
      "b=2.236051502145923\n",
      "f(a)=4.0\n",
      "f(b)=-7.36797509617304e-05\n",
      "f(m)=-1.0749798442510894e-05\n",
      "a=3.0\n",
      "b=2.2360655737704915\n",
      "f(a)=4.0\n",
      "f(b)=-1.0749798442510894e-05\n",
      "f(m)=-1.5683758967099948e-06\n",
      "a=3.0\n",
      "b=2.23606762680025\n",
      "f(a)=4.0\n",
      "f(b)=-1.5683758967099948e-06\n",
      "f(m)=-2.28822990777644e-07\n",
      "a=3.0\n",
      "b=2.236067926333413\n",
      "f(a)=4.0\n",
      "f(b)=-2.28822990777644e-07\n",
      "f(m)=-3.3384824682514136e-08\n",
      "a=3.0\n",
      "b=2.236067970034716\n",
      "f(a)=4.0\n",
      "f(b)=-3.3384824682514136e-08\n",
      "ans=2.23606797641065breaked\n"
     ]
    }
   ],
   "source": [
    "p=f(a)\n",
    "q=f(b)\n",
    "# print('p='+str(p))\n",
    "# print('q='+str(q))\n",
    "n=10\n",
    "if(p==0):\n",
    "    print(\"f(a)=0 so a is answer\")\n",
    "elif q==0:\n",
    "    print(\"f(b)=0 so b is answer\")\n",
    "elif p*q>0:\n",
    "    print(\"wrong a and b\")\n",
    "else:\n",
    "    while n>0:\n",
    "        n=n-1\n",
    "        p=f(a)\n",
    "        q=f(b)\n",
    "        print('f(a)='+str(p))\n",
    "        print('f(b)='+str(q))\n",
    "        m=a-(b-a)*p/(q-p)\n",
    "        func=f(m)\n",
    "        if abs(func)<pow(10,-8):\n",
    "            print('ans='+str(m)+'breaked')\n",
    "            break\n",
    "        elif func*p<0:\n",
    "            b=m\n",
    "        else:\n",
    "            a=m\n",
    "        print('f(m)='+str(func))\n",
    "        print('a='+str(a))\n",
    "        print('b='+str(b))\n",
    "    "
   ]
  },
  {
   "cell_type": "code",
   "execution_count": 1,
   "metadata": {},
   "outputs": [],
   "source": [
    "def pr(a):\n",
    "    print(a)\n",
    "    "
   ]
  },
  {
   "cell_type": "code",
   "execution_count": 5,
   "metadata": {},
   "outputs": [
    {
     "name": "stdout",
     "output_type": "stream",
     "text": [
      "[3, 43, 4, 5, 6, 6, 54, 3, 1]\n"
     ]
    }
   ],
   "source": [
    "abc=[1,2,3,43,4,5,6,6,54,3,1]\n",
    "pr(abc[2:])"
   ]
  },
  {
   "cell_type": "code",
   "execution_count": 6,
   "metadata": {},
   "outputs": [
    {
     "name": "stdout",
     "output_type": "stream",
     "text": [
      "5.75\n"
     ]
    }
   ],
   "source": [
    "a=-5.75\n",
    "print(abs(a))"
   ]
  },
  {
   "cell_type": "code",
   "execution_count": null,
   "metadata": {},
   "outputs": [],
   "source": []
  }
 ],
 "metadata": {
  "kernelspec": {
   "display_name": "Python 3",
   "language": "python",
   "name": "python3"
  },
  "language_info": {
   "codemirror_mode": {
    "name": "ipython",
    "version": 3
   },
   "file_extension": ".py",
   "mimetype": "text/x-python",
   "name": "python",
   "nbconvert_exporter": "python",
   "pygments_lexer": "ipython3",
   "version": "3.7.6"
  }
 },
 "nbformat": 4,
 "nbformat_minor": 4
}
