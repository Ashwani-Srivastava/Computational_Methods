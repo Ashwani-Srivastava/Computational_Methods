{
 "cells": [
  {
   "cell_type": "code",
   "execution_count": 102,
   "metadata": {},
   "outputs": [],
   "source": [
    "import math\n",
    "import sympy as sy\n",
    "import numpy as np\n",
    "import matplotlib.pyplot as plt"
   ]
  },
  {
   "cell_type": "code",
   "execution_count": 103,
   "metadata": {},
   "outputs": [],
   "source": [
    "def quad(a,b,c):\n",
    "    if(b<0):\n",
    "        return 2*c/(b-math.sqrt(b*b-4*a*c))\n",
    "    else:\n",
    "        return 2*c/(b+math.sqrt(b*b-4*a*c))\n",
    "    "
   ]
  },
  {
   "cell_type": "code",
   "execution_count": 104,
   "metadata": {},
   "outputs": [],
   "source": [
    "def f(x):\n",
    "    p=x**3+x*x+4*x-2\n",
    "    return p"
   ]
  },
  {
   "cell_type": "code",
   "execution_count": 105,
   "metadata": {},
   "outputs": [],
   "source": [
    "def diff2(x1,x2):\n",
    "    return (f(x1)-f(x2))/(x1-x2)\n"
   ]
  },
  {
   "cell_type": "code",
   "execution_count": 106,
   "metadata": {},
   "outputs": [],
   "source": [
    "def afind(x1,x2,x3):\n",
    "    return (diff2(x1,x2)-diff2(x2,x3))/(x1-x3)"
   ]
  },
  {
   "cell_type": "code",
   "execution_count": 107,
   "metadata": {},
   "outputs": [],
   "source": [
    "x0=0\n",
    "x1=1\n",
    "x2=2\n",
    "errorTrue=[]\n",
    "errorApprox=[]\n",
    "exact=1\n",
    "arr=[x0,x1,x2]\n",
    "arr_f=[f(x0),f(x1),f(x2)]"
   ]
  },
  {
   "cell_type": "code",
   "execution_count": 108,
   "metadata": {},
   "outputs": [
    {
     "name": "stdout",
     "output_type": "stream",
     "text": [
      "If no of iterations are provided\n",
      "a=4.0 b=18.0 c=18 diff2(x2,x0)=10.0\n",
      "1 2 0.5\n",
      "x0=1 x1=2 x2=0.5\n",
      "True relative error: 0.5\n",
      "a=4.5 b=5.0 c=0.375 diff2(x2,x0)=7.25\n",
      "2 0.5 0.4191113191843073\n",
      "errorApprox=-0.19300046816469144\n",
      "x0=2 x1=0.5 x2=0.4191113191843073\n",
      "True relative error: 0.5808886808156928\n",
      "a=3.919111319184306 b=5.237309532066205 c=-0.07428172089433804 diff2(x2,x0)=11.432988255421332\n",
      "0.5 0.4191113191843073 0.4331470841023796\n",
      "errorApprox=0.032404154231256053\n",
      "x0=0.5 x1=0.4191113191843073 x2=0.4331470841023796\n",
      "True relative error: 0.5668529158976203\n"
     ]
    }
   ],
   "source": [
    "print('If no of iterations are provided')\n",
    "temp=0\n",
    "n=3\n",
    "while temp<n:\n",
    "    a=afind(x0,x1,x2)\n",
    "    b=a*(x2-x0)+diff2(x2,x0)\n",
    "    c=f(x2)\n",
    "    print('a='+str(a)+' b='+str(b)+' c='+str(c)+' diff2(x2,x0)='+str(diff2(x2,x0)))\n",
    "    x0=x1\n",
    "    x1=x2\n",
    "    p=x2-quad(a,b,c)\n",
    "#     print(x0,x1,p)\n",
    "    if(temp!=0):\n",
    "        errorApprox.append((p-x2)/p)\n",
    "        print('errorApprox='+str((p-x2)/p))\n",
    "    \n",
    "    temp=temp+1\n",
    "    x2=p\n",
    "    print('x0='+str(x0)+' x1='+str(x1)+' x2='+str(x2))\n",
    "    errorTrue.append((exact-x2)/exact)\n",
    "    print('True relative error: '+str((exact-x2)/exact))\n",
    "    arr.append(x2)\n",
    "    arr_f.append(f(x2))\n",
    "    "
   ]
  },
  {
   "cell_type": "code",
   "execution_count": 88,
   "metadata": {},
   "outputs": [
    {
     "name": "stdout",
     "output_type": "stream",
     "text": [
      "values\n",
      "[0, 1, 2, 0.5, 0.4191113191843073, 0.4331470841023796, 0.432876296202467]\n",
      "function values\n",
      "[-2, 4, 18, 0.375, -0.07428172089433804, 0.0014702279351270775, 2.50196169560013e-07]\n",
      "errorTrue\n",
      "[0.5, 0.5808886808156928, 0.5668529158976203, 0.567123703797533]\n",
      "Approx error\n",
      "[-0.19300046816469144, 0.032404154231256053, -0.0006255549270962731]\n"
     ]
    }
   ],
   "source": [
    "print('values')\n",
    "print(arr)\n",
    "print('function values')\n",
    "print(arr_f)\n",
    "print('errorTrue')\n",
    "print(errorTrue)\n",
    "print('Approx error')\n",
    "print(errorApprox)"
   ]
  },
  {
   "cell_type": "code",
   "execution_count": 101,
   "metadata": {},
   "outputs": [
    {
     "name": "stdout",
     "output_type": "stream",
     "text": [
      "If epsilon is provided\n",
      "a=4.0 b=18.0 c=18 diff2(x2,x0)=10.0\n",
      "x0=1 x1=2 x2=0.5\n",
      "True relative error0.5\n",
      "a=4.5 b=5.0 c=0.375 diff2(x2,x0)=7.25\n",
      "errorApprox=-0.19300046816469144\n",
      "x0=2 x1=0.5 x2=0.4191113191843073\n",
      "True relative error0.5808886808156928\n",
      "a=3.919111319184306 b=5.237309532066205 c=-0.07428172089433804 diff2(x2,x0)=11.432988255421332\n",
      "errorApprox=0.032404154231256053\n",
      "x0=0.5 x1=0.4191113191843073 x2=0.4331470841023796\n",
      "True relative error0.5668529158976203\n",
      "a=2.3522584032864358 b=5.430081689415582 c=0.0014702279351270775 diff2(x2,x0)=5.587337022619961\n",
      "errorApprox=-0.0006255549270962731\n",
      "x0=0.4191113191843073 x1=0.4331470841023796 x2=0.432876296202467\n",
      "True relative error0.567123703797533\n"
     ]
    }
   ],
   "source": [
    "print('If epsilon is provided')\n",
    "temp=0\n",
    "epsilon=0.001\n",
    "while 1:\n",
    "    a=afind(x0,x1,x2)\n",
    "    b=a*(x2-x0)+diff2(x2,x0)\n",
    "    c=f(x2)\n",
    "    print('a='+str(a)+' b='+str(b)+' c='+str(c)+' diff2(x2,x0)='+str(diff2(x2,x0)))\n",
    "    x0=x1\n",
    "    x1=x2\n",
    "    p=x2-quad(a,b,c)\n",
    "    if(temp!=0):\n",
    "        errorApprox.append((p-x2)/p)\n",
    "        print('errorApprox='+str((p-x2)/p))\n",
    "        \n",
    "    \n",
    "    x2=p\n",
    "    print('x0='+str(x0)+' x1='+str(x1)+' x2='+str(x2))\n",
    "    errorTrue.append((exact-x2)/exact)\n",
    "    print('True relative error: '+str((exact-x2)/exact))\n",
    "    temp=temp+1\n",
    "    arr.append(x2)\n",
    "    arr_f.append(f(x2))\n",
    "    if(temp!=1 and abs(errorApprox[-1])<epsilon):\n",
    "        break"
   ]
  },
  {
   "cell_type": "code",
   "execution_count": null,
   "metadata": {},
   "outputs": [],
   "source": []
  }
 ],
 "metadata": {
  "kernelspec": {
   "display_name": "Python 3",
   "language": "python",
   "name": "python3"
  },
  "language_info": {
   "codemirror_mode": {
    "name": "ipython",
    "version": 3
   },
   "file_extension": ".py",
   "mimetype": "text/x-python",
   "name": "python",
   "nbconvert_exporter": "python",
   "pygments_lexer": "ipython3",
   "version": "3.7.6"
  }
 },
 "nbformat": 4,
 "nbformat_minor": 4
}
