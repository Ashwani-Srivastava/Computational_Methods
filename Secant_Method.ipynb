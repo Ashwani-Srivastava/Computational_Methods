{
 "cells": [
  {
   "cell_type": "code",
   "execution_count": 41,
   "metadata": {},
   "outputs": [],
   "source": [
    "import math\n",
    "import numpy as np\n",
    "import matplotlib.pyplot as plt\n",
    "import sympy as sy\n",
    "from sympy import *"
   ]
  },
  {
   "cell_type": "code",
   "execution_count": 42,
   "metadata": {},
   "outputs": [
    {
     "name": "stdout",
     "output_type": "stream",
     "text": [
      "Eqn: f(x)=0\n"
     ]
    }
   ],
   "source": [
    "x,y,z=symbols('x y z')\n",
    "init_printing(use_unicode=True)\n",
    "print(\"Eqn: f(x)=0\")\n",
    "def f(x):\n",
    "    p=x**3-1\n",
    "    return p\n"
   ]
  },
  {
   "cell_type": "code",
   "execution_count": 43,
   "metadata": {},
   "outputs": [
    {
     "name": "stdout",
     "output_type": "stream",
     "text": [
      "f(x)=x**3 - 1\n"
     ]
    }
   ],
   "source": [
    "print('f(x)='+str(f(x)))"
   ]
  },
  {
   "cell_type": "code",
   "execution_count": 44,
   "metadata": {},
   "outputs": [
    {
     "name": "stdout",
     "output_type": "stream",
     "text": [
      "3*x**2\n",
      "f'(x)=3*x**2\n"
     ]
    }
   ],
   "source": [
    "express=x**3-1\n",
    "print(sy.diff(express,x))\n",
    "def fprime(x):\n",
    "    p=sy.diff(express,x)\n",
    "    return p\n",
    "deriv=fprime(x)\n",
    "print(\"f\\'(x)=\"+str(deriv))"
   ]
  },
  {
   "cell_type": "code",
   "execution_count": 45,
   "metadata": {},
   "outputs": [
    {
     "name": "stdout",
     "output_type": "stream",
     "text": [
      "Initial Values:-\n",
      "a=6.0\n",
      "b=4.0\n"
     ]
    }
   ],
   "source": [
    "a=6.0\n",
    "b=4.0\n",
    "print('Initial Values:-')\n",
    "print('a='+str(a))\n",
    "print('b='+str(b))"
   ]
  },
  {
   "cell_type": "code",
   "execution_count": 36,
   "metadata": {},
   "outputs": [
    {
     "name": "stdout",
     "output_type": "stream",
     "text": [
      "no of iterations:10\n"
     ]
    }
   ],
   "source": [
    "n=10\n",
    "print(\"no of iterations:\"+str(n))"
   ]
  },
  {
   "cell_type": "code",
   "execution_count": 46,
   "metadata": {},
   "outputs": [
    {
     "name": "stdout",
     "output_type": "stream",
     "text": [
      "f(b)=63.0\n",
      "f(a)=215.0\n"
     ]
    }
   ],
   "source": [
    "arr=[a,b]\n",
    "arr_f=[f(a),f(b)]\n",
    "errorApprox=[]\n",
    "errorTrue=[]\n",
    "exact=1\n",
    "print('f(b)='+str(f(b)))\n",
    "print('f(a)='+str(f(a)))"
   ]
  },
  {
   "cell_type": "code",
   "execution_count": 27,
   "metadata": {},
   "outputs": [
    {
     "name": "stdout",
     "output_type": "stream",
     "text": [
      "If no of iterations are provided\n",
      "New a=3.1578947368421053\n",
      "New f(a)=31.491471059921274\n",
      "New a=2.672811059907834\n",
      "New f(a)=19.094345612627055\n",
      "New a=1.9256737160287745\n",
      "New f(a)=7.140820363416912\n",
      "New a=1.4793473438321418\n",
      "New f(a)=3.2375051567744912\n",
      "New a=1.1091533279524957\n",
      "New f(a)=1.3645038326262113\n",
      "New a=0.8394625664081776\n",
      "New f(a)=0.5915670882814622\n",
      "New a=0.6330547591581402\n",
      "New f(a)=0.2537019668713881\n",
      "New a=0.4780637187737526\n",
      "New f(a)=0.10925903398332273\n",
      "New a=0.36082592105061073\n",
      "New f(a)=0.04697785538510424\n",
      "New a=0.27239502698170176\n",
      "New f(a)=0.020211452424079252\n"
     ]
    }
   ],
   "source": [
    "print('If no of iterations are provided')\n",
    "temp=0\n",
    "while temp<n:\n",
    "        temp=temp+1\n",
    "        p=a-f(a)*(a-b)/(f(a)-f(b))\n",
    "        b=a\n",
    "        if temp!=0:\n",
    "            errorApprox.append((p-a)/p)\n",
    "        a=p\n",
    "        errorTrue.append((exact-a)/exact)\n",
    "        print('New a='+str(a))\n",
    "        print('New f(a)='+str(f(a)))\n",
    "        arr.append(a)\n",
    "        arr_f.append(f(a))\n",
    "        \n"
   ]
  },
  {
   "cell_type": "code",
   "execution_count": 48,
   "metadata": {},
   "outputs": [
    {
     "name": "stdout",
     "output_type": "stream",
     "text": [
      "[6.0, 4.0, 3.1710526315789473, 2.6964696618632504, 1.9774616734120116, 1.569759536182259, 1.2671723063693525, 1.0963971684846403, 1.0206396829757605, 1.0018441905793327, 1.0000374997966925]\n",
      "[215.0, 63.0, 30.886756906983525, 18.605892413577283, 6.732576489003746, 2.868115114538658, 1.0347310804129024, 0.3179645101363311, 0.0632058309002852, 0.005542781126840701, 0.00011250360883452437]\n"
     ]
    }
   ],
   "source": [
    "print(arr)\n",
    "print(arr_f)"
   ]
  },
  {
   "cell_type": "code",
   "execution_count": 49,
   "metadata": {},
   "outputs": [
    {
     "name": "stdout",
     "output_type": "stream",
     "text": [
      "error_approx\n",
      "[0.176001598099851, 0.36360147866260606, 0.25972266951236783, 0.23878933298334645, 0.15576028723308824, 0.074225494826933, 0.018760893732945587, 0.0018066230346436753]\n",
      "True Error\n",
      "[2.1710526315789473, 1.6964696618632504, 0.9774616734120116, 0.5697595361822589, 0.2671723063693525, 0.0963971684846403, 0.020639682975760465, 0.0018441905793327162, 3.7499796692541665e-05]\n"
     ]
    }
   ],
   "source": [
    "print('error_approx')\n",
    "print(errorApprox)\n",
    "print('True Error')\n",
    "print(errorTrue)\n"
   ]
  },
  {
   "cell_type": "code",
   "execution_count": 47,
   "metadata": {},
   "outputs": [
    {
     "name": "stdout",
     "output_type": "stream",
     "text": [
      "If epsilon provided\n",
      "New a=3.1710526315789473\n",
      "New f(a)=30.886756906983525\n",
      "New a=2.6964696618632504\n",
      "New f(a)=18.605892413577283\n",
      "New a=1.9774616734120116\n",
      "New f(a)=6.732576489003746\n",
      "New a=1.569759536182259\n",
      "New f(a)=2.868115114538658\n",
      "New a=1.2671723063693525\n",
      "New f(a)=1.0347310804129024\n",
      "New a=1.0963971684846403\n",
      "New f(a)=0.3179645101363311\n",
      "New a=1.0206396829757605\n",
      "New f(a)=0.0632058309002852\n",
      "New a=1.0018441905793327\n",
      "New f(a)=0.005542781126840701\n",
      "New a=1.0000374997966925\n",
      "New f(a)=0.00011250360883452437\n"
     ]
    }
   ],
   "source": [
    "print('If epsilon provided')\n",
    "temp=0\n",
    "epsilon=0.01\n",
    "while 1:\n",
    "        \n",
    "        p=a-f(a)*(a-b)/(f(a)-f(b))\n",
    "        b=a\n",
    "        if temp!=0:\n",
    "            errorApprox.append((a-p)/p)\n",
    "        a=p\n",
    "        errorTrue.append((a-exact)/exact)\n",
    "        print('New a='+str(a))\n",
    "        print('New f(a)='+str(f(a)))\n",
    "        arr.append(a)\n",
    "        arr_f.append(f(a))\n",
    "        temp=temp+1\n",
    "        if temp!=1 and abs(errorApprox[-1])<epsilon:\n",
    "            break"
   ]
  },
  {
   "cell_type": "code",
   "execution_count": null,
   "metadata": {},
   "outputs": [],
   "source": []
  }
 ],
 "metadata": {
  "kernelspec": {
   "display_name": "Python 3",
   "language": "python",
   "name": "python3"
  },
  "language_info": {
   "codemirror_mode": {
    "name": "ipython",
    "version": 3
   },
   "file_extension": ".py",
   "mimetype": "text/x-python",
   "name": "python",
   "nbconvert_exporter": "python",
   "pygments_lexer": "ipython3",
   "version": "3.7.6"
  }
 },
 "nbformat": 4,
 "nbformat_minor": 4
}
