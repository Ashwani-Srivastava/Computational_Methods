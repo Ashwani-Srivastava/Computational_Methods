{
 "cells": [
  {
   "cell_type": "code",
   "execution_count": 1,
   "metadata": {},
   "outputs": [],
   "source": [
    "import numpy as np\n",
    "import matplotlib.pyplot as plt"
   ]
  },
  {
   "cell_type": "code",
   "execution_count": 2,
   "metadata": {},
   "outputs": [],
   "source": [
    "a=np.array([[1,2,3,4],[2,3,4,1],[7,4,3,2]])"
   ]
  },
  {
   "cell_type": "code",
   "execution_count": 3,
   "metadata": {},
   "outputs": [],
   "source": [
    "def Jacobi(a):\n",
    "    x=np.random.rand(a.shape[0])\n",
    "    x_new=np.random.rand(a.shape[0])\n",
    "    n=a.shape[0]\n",
    "    iterations=5\n",
    "    for k in iterations:\n",
    "        for i in range(0,n):\n",
    "            summ=0\n",
    "            print(\"i=\"+str(i))\n",
    "            for j in range(0,n):\n",
    "                if i!=j:\n",
    "                    summ=summ+a[i][j]*x[j]\n",
    "            print(\"summ=\"+str(summ))\n",
    "            x_new[i]=(a[i][n]-summ)/a[i][i]\n",
    "            print(\"x_new=\"+str(x_new[i]))\n",
    "        x=x_new\n",
    "    return x"
   ]
  },
  {
   "cell_type": "code",
   "execution_count": 4,
   "metadata": {},
   "outputs": [],
   "source": [
    "def gauss_Seidel(a):\n",
    "    x=np.random.rand(a.shape[0])\n",
    "    n=a.shape[0]\n",
    "    iterations=5\n",
    "    for k in iterations:\n",
    "        for i in range(0,n):\n",
    "            summ=0\n",
    "            summ2=0\n",
    "            print(\"i=\"+str(i))\n",
    "            for j in range(0,n):\n",
    "                if i<j:\n",
    "                    summ=summ+a[i][j]*x[j]\n",
    "                elif j>i:\n",
    "                    summ2=summ2+a[i][j]*x[j]\n",
    "            print(\"summ=\"+str(summ))\n",
    "            print(\"summ2=\"+str(summ2))\n",
    "            x[i]=(a[i][n]-summ)/a[i][i]\n",
    "            print(\"x_new=\"+str(x_new[i]))\n",
    "    return x"
   ]
  },
  {
   "cell_type": "code",
   "execution_count": null,
   "metadata": {},
   "outputs": [],
   "source": []
  }
 ],
 "metadata": {
  "kernelspec": {
   "display_name": "Python 3",
   "language": "python",
   "name": "python3"
  },
  "language_info": {
   "codemirror_mode": {
    "name": "ipython",
    "version": 3
   },
   "file_extension": ".py",
   "mimetype": "text/x-python",
   "name": "python",
   "nbconvert_exporter": "python",
   "pygments_lexer": "ipython3",
   "version": "3.7.6"
  }
 },
 "nbformat": 4,
 "nbformat_minor": 4
}
