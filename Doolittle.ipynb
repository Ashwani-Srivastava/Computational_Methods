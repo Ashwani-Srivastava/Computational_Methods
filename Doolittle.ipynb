{
 "cells": [
  {
   "cell_type": "code",
   "execution_count": 11,
   "metadata": {},
   "outputs": [],
   "source": [
    "def LU_doolittle(a):\n",
    "    L=np.zeros(a.shape)\n",
    "    U=np.zeros(a.shape)\n",
    "    print(\"Assign diagonal elements of L=1\")\n",
    "    for i in range(0,a.shape[0]):\n",
    "        L[i][i]=1\n",
    "    for i in range(0,a.shape[0]):\n",
    "        for j in range(i-1,a.shape[0]):\n",
    "            if i<=j:\n",
    "                summ=0\n",
    "                print(\"i<=j\")\n",
    "                for k in range(0,i):\n",
    "                    summ=summ+L[i][k]*U[k][j]\n",
    "                print(\"summ=\"+str(summ))\n",
    "                U[i][j]=a[i][j]-summ\n",
    "                print(\"U[i][j]=\"+str(U[i][j]))\n",
    "    for j in range(0,a.shape[0]):\n",
    "        for i in range(j,a.shape[0]):\n",
    "            if j<i:\n",
    "                summ=0\n",
    "                print(\"i>j\")\n",
    "                for k in range(0,j):\n",
    "                    summ+=L[i][k]*U[k][j]\n",
    "                print(\"summ=\"+str(summ))\n",
    "                L[i][j]=(a[i][j]-summ)/U[j][j]\n",
    "                print(\"L[i][j]=\"+str(L[i][j]))\n",
    "    return L,U"
   ]
  },
  {
   "cell_type": "code",
   "execution_count": 12,
   "metadata": {},
   "outputs": [],
   "source": [
    "import numpy as np\n",
    "import math"
   ]
  },
  {
   "cell_type": "code",
   "execution_count": 13,
   "metadata": {},
   "outputs": [
    {
     "name": "stdout",
     "output_type": "stream",
     "text": [
      "Assign diagonal elements of L=1\n",
      "i<=j\n",
      "summ=0\n",
      "U[i][j]=2.0\n",
      "i<=j\n",
      "summ=0\n",
      "U[i][j]=7.0\n",
      "i<=j\n",
      "summ=0.0\n",
      "U[i][j]=-1.0\n",
      "i>j\n",
      "summ=0\n",
      "L[i][j]=1.5\n"
     ]
    }
   ],
   "source": [
    "A=np.array([[2,7],[3,-1]])\n",
    "L,U=LU_doolittle(A)"
   ]
  },
  {
   "cell_type": "code",
   "execution_count": 14,
   "metadata": {},
   "outputs": [
    {
     "name": "stdout",
     "output_type": "stream",
     "text": [
      "[[1.  0. ]\n",
      " [1.5 1. ]]\n"
     ]
    }
   ],
   "source": [
    "print(L)"
   ]
  },
  {
   "cell_type": "code",
   "execution_count": 15,
   "metadata": {},
   "outputs": [
    {
     "name": "stdout",
     "output_type": "stream",
     "text": [
      "[[ 2.  7.]\n",
      " [ 0. -1.]]\n"
     ]
    }
   ],
   "source": [
    "print(U)"
   ]
  },
  {
   "cell_type": "code",
   "execution_count": 26,
   "metadata": {},
   "outputs": [
    {
     "name": "stdout",
     "output_type": "stream",
     "text": [
      "[[1 2 3]\n",
      " [3 4 6]]\n"
     ]
    }
   ],
   "source": [
    "a=np.array([[1,2,3],[3,4,6]])\n",
    "print(a)"
   ]
  },
  {
   "cell_type": "code",
   "execution_count": 28,
   "metadata": {},
   "outputs": [
    {
     "name": "stdout",
     "output_type": "stream",
     "text": [
      "[1 2 3]\n"
     ]
    }
   ],
   "source": [
    "x=a[0,:]\n",
    "print(x)"
   ]
  },
  {
   "cell_type": "code",
   "execution_count": 29,
   "metadata": {},
   "outputs": [
    {
     "name": "stdout",
     "output_type": "stream",
     "text": [
      "[[3 4 6]\n",
      " [3 4 6]]\n"
     ]
    }
   ],
   "source": [
    "a[0,:]=a[1,:]\n",
    "print(a)"
   ]
  },
  {
   "cell_type": "code",
   "execution_count": 30,
   "metadata": {},
   "outputs": [
    {
     "name": "stdout",
     "output_type": "stream",
     "text": [
      "[3 4 6]\n"
     ]
    }
   ],
   "source": [
    "print(x)"
   ]
  },
  {
   "cell_type": "code",
   "execution_count": 27,
   "metadata": {},
   "outputs": [],
   "source": [
    "a=np.array(a)"
   ]
  },
  {
   "cell_type": "code",
   "execution_count": null,
   "metadata": {},
   "outputs": [],
   "source": []
  }
 ],
 "metadata": {
  "kernelspec": {
   "display_name": "Python 3",
   "language": "python",
   "name": "python3"
  },
  "language_info": {
   "codemirror_mode": {
    "name": "ipython",
    "version": 3
   },
   "file_extension": ".py",
   "mimetype": "text/x-python",
   "name": "python",
   "nbconvert_exporter": "python",
   "pygments_lexer": "ipython3",
   "version": "3.7.6"
  }
 },
 "nbformat": 4,
 "nbformat_minor": 4
}
